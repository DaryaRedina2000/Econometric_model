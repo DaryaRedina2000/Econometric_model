{
  "nbformat": 4,
  "nbformat_minor": 0,
  "metadata": {
    "colab": {
      "provenance": []
    },
    "kernelspec": {
      "name": "python3",
      "display_name": "Python 3"
    },
    "language_info": {
      "name": "python"
    }
  },
  "cells": [
    {
      "cell_type": "code",
      "execution_count": 1,
      "metadata": {
        "id": "79QUg8Cer6sO"
      },
      "outputs": [],
      "source": [
        "# подгружаем необходимые библиотеки\n",
        "import random\n",
        "\n",
        "import numpy as np\n",
        "import pandas as pd\n",
        "from sklearn.feature_selection import SelectKBest,chi2,RFE\n",
        "import matplotlib.pyplot as plt\n",
        "from sklearn. preprocessing import OneHotEncoder\n",
        "\n",
        "from sklearn. linear_model import LogisticRegression\n",
        "from sklearn import metrics\n",
        "import seaborn as sns\n",
        "\n",
        "from sklearn.metrics import accuracy_score\n",
        "from sklearn.datasets import make_classification\n",
        "\n",
        "from sklearn.neighbors import KNeighborsRegressor\n",
        "\n",
        "from sklearn import svm, datasets\n",
        "\n",
        "from sklearn.pipeline import Pipeline\n",
        "from sklearn.model_selection import RepeatedStratifiedKFold\n",
        "from sklearn.model_selection import cross_val_score\n",
        "from sklearn.feature_selection import RFE\n",
        "from sklearn.ensemble import GradientBoostingClassifier\n",
        "\n",
        "from sklearn.metrics import RocCurveDisplay\n",
        "\n",
        "from sklearn.preprocessing import LabelBinarizer"
      ]
    },
    {
      "cell_type": "code",
      "source": [
        "from sklearn. model_selection import train_test_split"
      ],
      "metadata": {
        "id": "Dmv-CszVsCNp"
      },
      "execution_count": 2,
      "outputs": []
    },
    {
      "cell_type": "code",
      "source": [
        "danye=pd.read_csv('/content/Данные для модели.csv', error_bad_lines=False,sep=';')"
      ],
      "metadata": {
        "colab": {
          "base_uri": "https://localhost:8080/"
        },
        "id": "Y_sBTuyBsFa1",
        "outputId": "8f76d801-90eb-43d7-832b-ee3a3ce6e434"
      },
      "execution_count": 4,
      "outputs": [
        {
          "output_type": "stream",
          "name": "stderr",
          "text": [
            "<ipython-input-4-9669122bb1cb>:1: FutureWarning: The error_bad_lines argument has been deprecated and will be removed in a future version. Use on_bad_lines in the future.\n",
            "\n",
            "\n",
            "  danye=pd.read_csv('/content/Данные для модели.csv', error_bad_lines=False,sep=';')\n"
          ]
        }
      ]
    },
    {
      "cell_type": "code",
      "source": [
        "#Проверим заполненность данных и приведем все данные к числовому формату\n",
        "danye['Квартал'] = pd.to_datetime(danye['Квартал'], format='%d.%m.%Y')\n",
        "danye.set_index('Квартал', inplace=True)\n",
        "danye"
      ],
      "metadata": {
        "colab": {
          "base_uri": "https://localhost:8080/",
          "height": 707
        },
        "id": "1w4VWr7pIoC0",
        "outputId": "40386c38-d0a3-4424-a616-2392ca1b5e3e"
      },
      "execution_count": 5,
      "outputs": [
        {
          "output_type": "execute_result",
          "data": {
            "text/plain": [
              "            Индикатор кризиса  \\\n",
              "Квартал                         \n",
              "2005-03-31                  0   \n",
              "2005-06-30                  0   \n",
              "2005-09-30                  0   \n",
              "2005-12-31                  0   \n",
              "2006-03-31                  0   \n",
              "...                       ...   \n",
              "2020-12-31                  0   \n",
              "2021-03-31                  0   \n",
              "2021-06-30                  0   \n",
              "2021-09-30                  0   \n",
              "2021-12-31                  0   \n",
              "\n",
              "            Заказы на промышленную продукцию                         \\\n",
              "Квартал                                                               \n",
              "2005-03-31                                               59.0         \n",
              "2005-06-30                                               52.0         \n",
              "2005-09-30                                               50.0         \n",
              "2005-12-31                                               53.0         \n",
              "2006-03-31                                               62.0         \n",
              "...                                                       ...         \n",
              "2020-12-31                                               52.0         \n",
              "2021-03-31                                               58.0         \n",
              "2021-06-30                                               57.0         \n",
              "2021-09-30                                               57.0         \n",
              "2021-12-31                                               56.0         \n",
              "\n",
              "            Запасы готовой продукции      Загрузка производственных мощностей  \\\n",
              "Квартал                                                                         \n",
              "2005-03-31                          46.0                                 24.0   \n",
              "2005-06-30                          43.0                                 28.0   \n",
              "2005-09-30                          41.0                                 26.0   \n",
              "2005-12-31                          45.0                                 26.0   \n",
              "2006-03-31                          52.0                                 26.0   \n",
              "...                                  ...                                  ...   \n",
              "2020-12-31                          35.0                                 26.0   \n",
              "2021-03-31                          32.0                                 20.0   \n",
              "2021-06-30                          32.0                                 32.0   \n",
              "2021-09-30                          42.0                                 23.0   \n",
              "2021-12-31                          42.0                                 23.0   \n",
              "\n",
              "            Цена нефти на мировом рынке  Реальный курс рубля  \\\n",
              "Квартал                                                        \n",
              "2005-03-31                        50.60                28.60   \n",
              "2005-06-30                        50.70                28.49   \n",
              "2005-09-30                        50.80                28.75   \n",
              "2005-12-31                        50.90                27.72   \n",
              "2006-03-31                        61.09                26.84   \n",
              "...                                 ...                  ...   \n",
              "2020-12-31                        41.76                75.65   \n",
              "2021-03-31                        69.00                73.13   \n",
              "2021-06-30                        69.10                72.68   \n",
              "2021-09-30                        69.20                75.06   \n",
              "2021-12-31                        69.30                81.73   \n",
              "\n",
              "            Текущее финансовое состояние    Фондовый индекс  \\\n",
              "Квартал                                                       \n",
              "2005-03-31                            69.0            0.765   \n",
              "2005-06-30                            70.0            0.765   \n",
              "2005-09-30                            71.0            0.765   \n",
              "2005-12-31                            72.0            0.765   \n",
              "2006-03-31                            74.0            0.831   \n",
              "...                                    ...              ...   \n",
              "2020-12-31                            80.0           -0.095   \n",
              "2021-03-31                            84.0            0.145   \n",
              "2021-06-30                            85.0            0.145   \n",
              "2021-09-30                            86.0            0.145   \n",
              "2021-12-31                            87.0            0.145   \n",
              "\n",
              "            Уровень реальных процентных ставок  (MIACR от 31 до 90)  \\\n",
              "Квартал                                                               \n",
              "2005-03-31                                               4.39         \n",
              "2005-06-30                                               5.26         \n",
              "2005-09-30                                               4.10         \n",
              "2005-12-31                                               7.33         \n",
              "2006-03-31                                               5.38         \n",
              "...                                                       ...         \n",
              "2020-12-31                                               4.63         \n",
              "2021-03-31                                               4.84         \n",
              "2021-06-30                                               5.99         \n",
              "2021-09-30                                               7.64         \n",
              "2021-12-31                                               8.68         \n",
              "\n",
              "            Денежная масса М2  Валютные резервы  \n",
              "Квартал                                          \n",
              "2005-03-31             4300.6             138.9  \n",
              "2005-06-30             4677.7             149.6  \n",
              "2005-09-30             5118.2             159.6  \n",
              "2005-12-31             5417.1             182.2  \n",
              "2006-03-31             5899.7             205.9  \n",
              "...                       ...               ...  \n",
              "2020-12-31            56122.6             592.4  \n",
              "2021-03-31            58178.2             577.7  \n",
              "2021-06-30            59194.1             592.4  \n",
              "2021-09-30            59816.9             617.9  \n",
              "2021-12-31            62312.5             630.6  \n",
              "\n",
              "[68 rows x 11 columns]"
            ],
            "text/html": [
              "\n",
              "  <div id=\"df-a2706be7-767b-44fd-a297-d09f6e4bd054\">\n",
              "    <div class=\"colab-df-container\">\n",
              "      <div>\n",
              "<style scoped>\n",
              "    .dataframe tbody tr th:only-of-type {\n",
              "        vertical-align: middle;\n",
              "    }\n",
              "\n",
              "    .dataframe tbody tr th {\n",
              "        vertical-align: top;\n",
              "    }\n",
              "\n",
              "    .dataframe thead th {\n",
              "        text-align: right;\n",
              "    }\n",
              "</style>\n",
              "<table border=\"1\" class=\"dataframe\">\n",
              "  <thead>\n",
              "    <tr style=\"text-align: right;\">\n",
              "      <th></th>\n",
              "      <th>Индикатор кризиса</th>\n",
              "      <th>Заказы на промышленную продукцию</th>\n",
              "      <th>Запасы готовой продукции</th>\n",
              "      <th>Загрузка производственных мощностей</th>\n",
              "      <th>Цена нефти на мировом рынке</th>\n",
              "      <th>Реальный курс рубля</th>\n",
              "      <th>Текущее финансовое состояние</th>\n",
              "      <th>Фондовый индекс</th>\n",
              "      <th>Уровень реальных процентных ставок  (MIACR от 31 до 90)</th>\n",
              "      <th>Денежная масса М2</th>\n",
              "      <th>Валютные резервы</th>\n",
              "    </tr>\n",
              "    <tr>\n",
              "      <th>Квартал</th>\n",
              "      <th></th>\n",
              "      <th></th>\n",
              "      <th></th>\n",
              "      <th></th>\n",
              "      <th></th>\n",
              "      <th></th>\n",
              "      <th></th>\n",
              "      <th></th>\n",
              "      <th></th>\n",
              "      <th></th>\n",
              "      <th></th>\n",
              "    </tr>\n",
              "  </thead>\n",
              "  <tbody>\n",
              "    <tr>\n",
              "      <th>2005-03-31</th>\n",
              "      <td>0</td>\n",
              "      <td>59.0</td>\n",
              "      <td>46.0</td>\n",
              "      <td>24.0</td>\n",
              "      <td>50.60</td>\n",
              "      <td>28.60</td>\n",
              "      <td>69.0</td>\n",
              "      <td>0.765</td>\n",
              "      <td>4.39</td>\n",
              "      <td>4300.6</td>\n",
              "      <td>138.9</td>\n",
              "    </tr>\n",
              "    <tr>\n",
              "      <th>2005-06-30</th>\n",
              "      <td>0</td>\n",
              "      <td>52.0</td>\n",
              "      <td>43.0</td>\n",
              "      <td>28.0</td>\n",
              "      <td>50.70</td>\n",
              "      <td>28.49</td>\n",
              "      <td>70.0</td>\n",
              "      <td>0.765</td>\n",
              "      <td>5.26</td>\n",
              "      <td>4677.7</td>\n",
              "      <td>149.6</td>\n",
              "    </tr>\n",
              "    <tr>\n",
              "      <th>2005-09-30</th>\n",
              "      <td>0</td>\n",
              "      <td>50.0</td>\n",
              "      <td>41.0</td>\n",
              "      <td>26.0</td>\n",
              "      <td>50.80</td>\n",
              "      <td>28.75</td>\n",
              "      <td>71.0</td>\n",
              "      <td>0.765</td>\n",
              "      <td>4.10</td>\n",
              "      <td>5118.2</td>\n",
              "      <td>159.6</td>\n",
              "    </tr>\n",
              "    <tr>\n",
              "      <th>2005-12-31</th>\n",
              "      <td>0</td>\n",
              "      <td>53.0</td>\n",
              "      <td>45.0</td>\n",
              "      <td>26.0</td>\n",
              "      <td>50.90</td>\n",
              "      <td>27.72</td>\n",
              "      <td>72.0</td>\n",
              "      <td>0.765</td>\n",
              "      <td>7.33</td>\n",
              "      <td>5417.1</td>\n",
              "      <td>182.2</td>\n",
              "    </tr>\n",
              "    <tr>\n",
              "      <th>2006-03-31</th>\n",
              "      <td>0</td>\n",
              "      <td>62.0</td>\n",
              "      <td>52.0</td>\n",
              "      <td>26.0</td>\n",
              "      <td>61.09</td>\n",
              "      <td>26.84</td>\n",
              "      <td>74.0</td>\n",
              "      <td>0.831</td>\n",
              "      <td>5.38</td>\n",
              "      <td>5899.7</td>\n",
              "      <td>205.9</td>\n",
              "    </tr>\n",
              "    <tr>\n",
              "      <th>...</th>\n",
              "      <td>...</td>\n",
              "      <td>...</td>\n",
              "      <td>...</td>\n",
              "      <td>...</td>\n",
              "      <td>...</td>\n",
              "      <td>...</td>\n",
              "      <td>...</td>\n",
              "      <td>...</td>\n",
              "      <td>...</td>\n",
              "      <td>...</td>\n",
              "      <td>...</td>\n",
              "    </tr>\n",
              "    <tr>\n",
              "      <th>2020-12-31</th>\n",
              "      <td>0</td>\n",
              "      <td>52.0</td>\n",
              "      <td>35.0</td>\n",
              "      <td>26.0</td>\n",
              "      <td>41.76</td>\n",
              "      <td>75.65</td>\n",
              "      <td>80.0</td>\n",
              "      <td>-0.095</td>\n",
              "      <td>4.63</td>\n",
              "      <td>56122.6</td>\n",
              "      <td>592.4</td>\n",
              "    </tr>\n",
              "    <tr>\n",
              "      <th>2021-03-31</th>\n",
              "      <td>0</td>\n",
              "      <td>58.0</td>\n",
              "      <td>32.0</td>\n",
              "      <td>20.0</td>\n",
              "      <td>69.00</td>\n",
              "      <td>73.13</td>\n",
              "      <td>84.0</td>\n",
              "      <td>0.145</td>\n",
              "      <td>4.84</td>\n",
              "      <td>58178.2</td>\n",
              "      <td>577.7</td>\n",
              "    </tr>\n",
              "    <tr>\n",
              "      <th>2021-06-30</th>\n",
              "      <td>0</td>\n",
              "      <td>57.0</td>\n",
              "      <td>32.0</td>\n",
              "      <td>32.0</td>\n",
              "      <td>69.10</td>\n",
              "      <td>72.68</td>\n",
              "      <td>85.0</td>\n",
              "      <td>0.145</td>\n",
              "      <td>5.99</td>\n",
              "      <td>59194.1</td>\n",
              "      <td>592.4</td>\n",
              "    </tr>\n",
              "    <tr>\n",
              "      <th>2021-09-30</th>\n",
              "      <td>0</td>\n",
              "      <td>57.0</td>\n",
              "      <td>42.0</td>\n",
              "      <td>23.0</td>\n",
              "      <td>69.20</td>\n",
              "      <td>75.06</td>\n",
              "      <td>86.0</td>\n",
              "      <td>0.145</td>\n",
              "      <td>7.64</td>\n",
              "      <td>59816.9</td>\n",
              "      <td>617.9</td>\n",
              "    </tr>\n",
              "    <tr>\n",
              "      <th>2021-12-31</th>\n",
              "      <td>0</td>\n",
              "      <td>56.0</td>\n",
              "      <td>42.0</td>\n",
              "      <td>23.0</td>\n",
              "      <td>69.30</td>\n",
              "      <td>81.73</td>\n",
              "      <td>87.0</td>\n",
              "      <td>0.145</td>\n",
              "      <td>8.68</td>\n",
              "      <td>62312.5</td>\n",
              "      <td>630.6</td>\n",
              "    </tr>\n",
              "  </tbody>\n",
              "</table>\n",
              "<p>68 rows × 11 columns</p>\n",
              "</div>\n",
              "      <button class=\"colab-df-convert\" onclick=\"convertToInteractive('df-a2706be7-767b-44fd-a297-d09f6e4bd054')\"\n",
              "              title=\"Convert this dataframe to an interactive table.\"\n",
              "              style=\"display:none;\">\n",
              "        \n",
              "  <svg xmlns=\"http://www.w3.org/2000/svg\" height=\"24px\"viewBox=\"0 0 24 24\"\n",
              "       width=\"24px\">\n",
              "    <path d=\"M0 0h24v24H0V0z\" fill=\"none\"/>\n",
              "    <path d=\"M18.56 5.44l.94 2.06.94-2.06 2.06-.94-2.06-.94-.94-2.06-.94 2.06-2.06.94zm-11 1L8.5 8.5l.94-2.06 2.06-.94-2.06-.94L8.5 2.5l-.94 2.06-2.06.94zm10 10l.94 2.06.94-2.06 2.06-.94-2.06-.94-.94-2.06-.94 2.06-2.06.94z\"/><path d=\"M17.41 7.96l-1.37-1.37c-.4-.4-.92-.59-1.43-.59-.52 0-1.04.2-1.43.59L10.3 9.45l-7.72 7.72c-.78.78-.78 2.05 0 2.83L4 21.41c.39.39.9.59 1.41.59.51 0 1.02-.2 1.41-.59l7.78-7.78 2.81-2.81c.8-.78.8-2.07 0-2.86zM5.41 20L4 18.59l7.72-7.72 1.47 1.35L5.41 20z\"/>\n",
              "  </svg>\n",
              "      </button>\n",
              "      \n",
              "  <style>\n",
              "    .colab-df-container {\n",
              "      display:flex;\n",
              "      flex-wrap:wrap;\n",
              "      gap: 12px;\n",
              "    }\n",
              "\n",
              "    .colab-df-convert {\n",
              "      background-color: #E8F0FE;\n",
              "      border: none;\n",
              "      border-radius: 50%;\n",
              "      cursor: pointer;\n",
              "      display: none;\n",
              "      fill: #1967D2;\n",
              "      height: 32px;\n",
              "      padding: 0 0 0 0;\n",
              "      width: 32px;\n",
              "    }\n",
              "\n",
              "    .colab-df-convert:hover {\n",
              "      background-color: #E2EBFA;\n",
              "      box-shadow: 0px 1px 2px rgba(60, 64, 67, 0.3), 0px 1px 3px 1px rgba(60, 64, 67, 0.15);\n",
              "      fill: #174EA6;\n",
              "    }\n",
              "\n",
              "    [theme=dark] .colab-df-convert {\n",
              "      background-color: #3B4455;\n",
              "      fill: #D2E3FC;\n",
              "    }\n",
              "\n",
              "    [theme=dark] .colab-df-convert:hover {\n",
              "      background-color: #434B5C;\n",
              "      box-shadow: 0px 1px 3px 1px rgba(0, 0, 0, 0.15);\n",
              "      filter: drop-shadow(0px 1px 2px rgba(0, 0, 0, 0.3));\n",
              "      fill: #FFFFFF;\n",
              "    }\n",
              "  </style>\n",
              "\n",
              "      <script>\n",
              "        const buttonEl =\n",
              "          document.querySelector('#df-a2706be7-767b-44fd-a297-d09f6e4bd054 button.colab-df-convert');\n",
              "        buttonEl.style.display =\n",
              "          google.colab.kernel.accessAllowed ? 'block' : 'none';\n",
              "\n",
              "        async function convertToInteractive(key) {\n",
              "          const element = document.querySelector('#df-a2706be7-767b-44fd-a297-d09f6e4bd054');\n",
              "          const dataTable =\n",
              "            await google.colab.kernel.invokeFunction('convertToInteractive',\n",
              "                                                     [key], {});\n",
              "          if (!dataTable) return;\n",
              "\n",
              "          const docLinkHtml = 'Like what you see? Visit the ' +\n",
              "            '<a target=\"_blank\" href=https://colab.research.google.com/notebooks/data_table.ipynb>data table notebook</a>'\n",
              "            + ' to learn more about interactive tables.';\n",
              "          element.innerHTML = '';\n",
              "          dataTable['output_type'] = 'display_data';\n",
              "          await google.colab.output.renderOutput(dataTable, element);\n",
              "          const docLink = document.createElement('div');\n",
              "          docLink.innerHTML = docLinkHtml;\n",
              "          element.appendChild(docLink);\n",
              "        }\n",
              "      </script>\n",
              "    </div>\n",
              "  </div>\n",
              "  "
            ]
          },
          "metadata": {},
          "execution_count": 5
        }
      ]
    },
    {
      "cell_type": "code",
      "source": [
        "#Сохраним полученные данные\n",
        "danye.to_excel('Danye_new.xlsx')"
      ],
      "metadata": {
        "id": "x8MV71VNNmsK"
      },
      "execution_count": 6,
      "outputs": []
    },
    {
      "cell_type": "code",
      "source": [
        "danye.info()"
      ],
      "metadata": {
        "colab": {
          "base_uri": "https://localhost:8080/"
        },
        "id": "-oLjHmYIOIyy",
        "outputId": "cead99d6-92d0-4d6b-e747-e1ff4941e86f"
      },
      "execution_count": 7,
      "outputs": [
        {
          "output_type": "stream",
          "name": "stdout",
          "text": [
            "<class 'pandas.core.frame.DataFrame'>\n",
            "DatetimeIndex: 68 entries, 2005-03-31 to 2021-12-31\n",
            "Data columns (total 11 columns):\n",
            " #   Column                                                   Non-Null Count  Dtype  \n",
            "---  ------                                                   --------------  -----  \n",
            " 0   Индикатор кризиса                                        68 non-null     int64  \n",
            " 1   Заказы на промышленную продукцию                         68 non-null     float64\n",
            " 2   Запасы готовой продукции                                 68 non-null     float64\n",
            " 3   Загрузка производственных мощностей                      68 non-null     float64\n",
            " 4   Цена нефти на мировом рынке                              68 non-null     float64\n",
            " 5   Реальный курс рубля                                      68 non-null     float64\n",
            " 6   Текущее финансовое состояние                             68 non-null     float64\n",
            " 7   Фондовый индекс                                          68 non-null     float64\n",
            " 8   Уровень реальных процентных ставок  (MIACR от 31 до 90)  68 non-null     float64\n",
            " 9   Денежная масса М2                                        68 non-null     float64\n",
            " 10  Валютные резервы                                         68 non-null     float64\n",
            "dtypes: float64(10), int64(1)\n",
            "memory usage: 6.4 KB\n"
          ]
        }
      ]
    },
    {
      "cell_type": "code",
      "source": [
        "train, test = train_test_split(danye, test_size= 0.2 , random_state= 0)"
      ],
      "metadata": {
        "id": "nBimuWosh1D8"
      },
      "execution_count": 8,
      "outputs": []
    },
    {
      "cell_type": "code",
      "source": [
        "X = train.drop(columns = ['Индикатор кризиса'],axis = 1)\n",
        "Y = train['Индикатор кризиса']"
      ],
      "metadata": {
        "id": "ySsYpkzefzJg"
      },
      "execution_count": 9,
      "outputs": []
    },
    {
      "cell_type": "code",
      "source": [
        "X.info()"
      ],
      "metadata": {
        "id": "i-0zRmtocNTN",
        "colab": {
          "base_uri": "https://localhost:8080/"
        },
        "outputId": "41514245-96a7-41c9-c53c-d4d8ac1d5e01"
      },
      "execution_count": 10,
      "outputs": [
        {
          "output_type": "stream",
          "name": "stdout",
          "text": [
            "<class 'pandas.core.frame.DataFrame'>\n",
            "DatetimeIndex: 54 entries, 2018-03-31 to 2016-03-31\n",
            "Data columns (total 10 columns):\n",
            " #   Column                                                   Non-Null Count  Dtype  \n",
            "---  ------                                                   --------------  -----  \n",
            " 0   Заказы на промышленную продукцию                         54 non-null     float64\n",
            " 1   Запасы готовой продукции                                 54 non-null     float64\n",
            " 2   Загрузка производственных мощностей                      54 non-null     float64\n",
            " 3   Цена нефти на мировом рынке                              54 non-null     float64\n",
            " 4   Реальный курс рубля                                      54 non-null     float64\n",
            " 5   Текущее финансовое состояние                             54 non-null     float64\n",
            " 6   Фондовый индекс                                          54 non-null     float64\n",
            " 7   Уровень реальных процентных ставок  (MIACR от 31 до 90)  54 non-null     float64\n",
            " 8   Денежная масса М2                                        54 non-null     float64\n",
            " 9   Валютные резервы                                         54 non-null     float64\n",
            "dtypes: float64(10)\n",
            "memory usage: 4.6 KB\n"
          ]
        }
      ]
    },
    {
      "cell_type": "code",
      "source": [
        "X2 = test.drop(columns = ['Индикатор кризиса'],axis = 1)\n",
        "Y2 = test['Индикатор кризиса']"
      ],
      "metadata": {
        "id": "3s8UtmnuijZC"
      },
      "execution_count": 11,
      "outputs": []
    },
    {
      "cell_type": "code",
      "source": [
        "log_regression = LogisticRegression()\n",
        "# подбираем модель, используя обучающие данные\n",
        "log_regression.fit(X,Y)"
      ],
      "metadata": {
        "colab": {
          "base_uri": "https://localhost:8080/",
          "height": 214
        },
        "id": "kcWANhxJijbL",
        "outputId": "1d3909fb-934d-41bd-8a52-c2f7594e8072"
      },
      "execution_count": 12,
      "outputs": [
        {
          "output_type": "stream",
          "name": "stderr",
          "text": [
            "/usr/local/lib/python3.10/dist-packages/sklearn/linear_model/_logistic.py:458: ConvergenceWarning: lbfgs failed to converge (status=1):\n",
            "STOP: TOTAL NO. of ITERATIONS REACHED LIMIT.\n",
            "\n",
            "Increase the number of iterations (max_iter) or scale the data as shown in:\n",
            "    https://scikit-learn.org/stable/modules/preprocessing.html\n",
            "Please also refer to the documentation for alternative solver options:\n",
            "    https://scikit-learn.org/stable/modules/linear_model.html#logistic-regression\n",
            "  n_iter_i = _check_optimize_result(\n"
          ]
        },
        {
          "output_type": "execute_result",
          "data": {
            "text/plain": [
              "LogisticRegression()"
            ],
            "text/html": [
              "<style>#sk-container-id-1 {color: black;background-color: white;}#sk-container-id-1 pre{padding: 0;}#sk-container-id-1 div.sk-toggleable {background-color: white;}#sk-container-id-1 label.sk-toggleable__label {cursor: pointer;display: block;width: 100%;margin-bottom: 0;padding: 0.3em;box-sizing: border-box;text-align: center;}#sk-container-id-1 label.sk-toggleable__label-arrow:before {content: \"▸\";float: left;margin-right: 0.25em;color: #696969;}#sk-container-id-1 label.sk-toggleable__label-arrow:hover:before {color: black;}#sk-container-id-1 div.sk-estimator:hover label.sk-toggleable__label-arrow:before {color: black;}#sk-container-id-1 div.sk-toggleable__content {max-height: 0;max-width: 0;overflow: hidden;text-align: left;background-color: #f0f8ff;}#sk-container-id-1 div.sk-toggleable__content pre {margin: 0.2em;color: black;border-radius: 0.25em;background-color: #f0f8ff;}#sk-container-id-1 input.sk-toggleable__control:checked~div.sk-toggleable__content {max-height: 200px;max-width: 100%;overflow: auto;}#sk-container-id-1 input.sk-toggleable__control:checked~label.sk-toggleable__label-arrow:before {content: \"▾\";}#sk-container-id-1 div.sk-estimator input.sk-toggleable__control:checked~label.sk-toggleable__label {background-color: #d4ebff;}#sk-container-id-1 div.sk-label input.sk-toggleable__control:checked~label.sk-toggleable__label {background-color: #d4ebff;}#sk-container-id-1 input.sk-hidden--visually {border: 0;clip: rect(1px 1px 1px 1px);clip: rect(1px, 1px, 1px, 1px);height: 1px;margin: -1px;overflow: hidden;padding: 0;position: absolute;width: 1px;}#sk-container-id-1 div.sk-estimator {font-family: monospace;background-color: #f0f8ff;border: 1px dotted black;border-radius: 0.25em;box-sizing: border-box;margin-bottom: 0.5em;}#sk-container-id-1 div.sk-estimator:hover {background-color: #d4ebff;}#sk-container-id-1 div.sk-parallel-item::after {content: \"\";width: 100%;border-bottom: 1px solid gray;flex-grow: 1;}#sk-container-id-1 div.sk-label:hover label.sk-toggleable__label {background-color: #d4ebff;}#sk-container-id-1 div.sk-serial::before {content: \"\";position: absolute;border-left: 1px solid gray;box-sizing: border-box;top: 0;bottom: 0;left: 50%;z-index: 0;}#sk-container-id-1 div.sk-serial {display: flex;flex-direction: column;align-items: center;background-color: white;padding-right: 0.2em;padding-left: 0.2em;position: relative;}#sk-container-id-1 div.sk-item {position: relative;z-index: 1;}#sk-container-id-1 div.sk-parallel {display: flex;align-items: stretch;justify-content: center;background-color: white;position: relative;}#sk-container-id-1 div.sk-item::before, #sk-container-id-1 div.sk-parallel-item::before {content: \"\";position: absolute;border-left: 1px solid gray;box-sizing: border-box;top: 0;bottom: 0;left: 50%;z-index: -1;}#sk-container-id-1 div.sk-parallel-item {display: flex;flex-direction: column;z-index: 1;position: relative;background-color: white;}#sk-container-id-1 div.sk-parallel-item:first-child::after {align-self: flex-end;width: 50%;}#sk-container-id-1 div.sk-parallel-item:last-child::after {align-self: flex-start;width: 50%;}#sk-container-id-1 div.sk-parallel-item:only-child::after {width: 0;}#sk-container-id-1 div.sk-dashed-wrapped {border: 1px dashed gray;margin: 0 0.4em 0.5em 0.4em;box-sizing: border-box;padding-bottom: 0.4em;background-color: white;}#sk-container-id-1 div.sk-label label {font-family: monospace;font-weight: bold;display: inline-block;line-height: 1.2em;}#sk-container-id-1 div.sk-label-container {text-align: center;}#sk-container-id-1 div.sk-container {/* jupyter's `normalize.less` sets `[hidden] { display: none; }` but bootstrap.min.css set `[hidden] { display: none !important; }` so we also need the `!important` here to be able to override the default hidden behavior on the sphinx rendered scikit-learn.org. See: https://github.com/scikit-learn/scikit-learn/issues/21755 */display: inline-block !important;position: relative;}#sk-container-id-1 div.sk-text-repr-fallback {display: none;}</style><div id=\"sk-container-id-1\" class=\"sk-top-container\"><div class=\"sk-text-repr-fallback\"><pre>LogisticRegression()</pre><b>In a Jupyter environment, please rerun this cell to show the HTML representation or trust the notebook. <br />On GitHub, the HTML representation is unable to render, please try loading this page with nbviewer.org.</b></div><div class=\"sk-container\" hidden><div class=\"sk-item\"><div class=\"sk-estimator sk-toggleable\"><input class=\"sk-toggleable__control sk-hidden--visually\" id=\"sk-estimator-id-1\" type=\"checkbox\" checked><label for=\"sk-estimator-id-1\" class=\"sk-toggleable__label sk-toggleable__label-arrow\">LogisticRegression</label><div class=\"sk-toggleable__content\"><pre>LogisticRegression()</pre></div></div></div></div></div>"
            ]
          },
          "metadata": {},
          "execution_count": 12
        }
      ]
    },
    {
      "cell_type": "code",
      "source": [
        "y_pred = log_regression.predict(X2)"
      ],
      "metadata": {
        "id": "ZgtfSC4vijdM"
      },
      "execution_count": 13,
      "outputs": []
    },
    {
      "cell_type": "code",
      "source": [
        "print(\" Accuracy:\",metrics. accuracy_score (Y2, y_pred))"
      ],
      "metadata": {
        "colab": {
          "base_uri": "https://localhost:8080/"
        },
        "id": "nkHeM2abijfC",
        "outputId": "efa29097-951a-4d1b-dbed-e6eaa9bcfefc"
      },
      "execution_count": 14,
      "outputs": [
        {
          "output_type": "stream",
          "name": "stdout",
          "text": [
            " Accuracy: 1.0\n"
          ]
        }
      ]
    },
    {
      "cell_type": "code",
      "source": [
        "y_pred_N = log_regression.predict(X2)"
      ],
      "metadata": {
        "id": "wr3RWDbhiji6"
      },
      "execution_count": 15,
      "outputs": []
    },
    {
      "cell_type": "code",
      "source": [
        "y_pred_proba = log_regression.predict_proba(X2)[::,1]"
      ],
      "metadata": {
        "id": "1617LdbOkcF0"
      },
      "execution_count": 16,
      "outputs": []
    },
    {
      "cell_type": "code",
      "source": [
        "fpr, tpr, _ = metrics.roc_curve(Y2, y_pred_proba)\n",
        "\n",
        "#create ROC curve\n",
        "plt.plot (fpr,tpr)\n",
        "plt.ylabel('True Positive Rate')\n",
        "plt.xlabel('False Positive Rate')\n",
        "plt.show()"
      ],
      "metadata": {
        "colab": {
          "base_uri": "https://localhost:8080/",
          "height": 449
        },
        "id": "f1g8z67pkcH_",
        "outputId": "db88da16-65e5-4b58-968b-01714093ff4e"
      },
      "execution_count": 17,
      "outputs": [
        {
          "output_type": "display_data",
          "data": {
            "text/plain": [
              "<Figure size 640x480 with 1 Axes>"
            ],
            "image/png": "[encoded data removed]"
          },
          "metadata": {}
        }
      ]
    },
    {
      "cell_type": "markdown",
      "source": [
        "Несмотря на высокий показатель точности модели, необходимо помнить, что объём выборки составляет лишь 68 строк, следовательно нельзя говорить о том, что её можно применить на новом наборе данных."
      ],
      "metadata": {
        "id": "6jFFpJH-z5rA"
      }
    }
  ]
}